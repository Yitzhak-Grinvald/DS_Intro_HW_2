{
 "cells": [
  {
   "cell_type": "code",
   "execution_count": 8,
   "id": "a5fa79d6",
   "metadata": {},
   "outputs": [],
   "source": [
    "def reverse(sentence, reverse_word):\n",
    "    try:\n",
    "        reverse_word= int(reverse_word)\n",
    "        print(\"invalid input\")\n",
    "        \n",
    "    except:\n",
    "        if reverse_word in sentence:\n",
    "            sentence = sentence.replace(reverse_word, reverse_word[::-1], 1)\n",
    "            print(sentence)\n",
    "        else:\n",
    "            print(\"The word was not found\")"
   ]
  }
 ],
 "metadata": {
  "kernelspec": {
   "display_name": "Python 3 (ipykernel)",
   "language": "python",
   "name": "python3"
  },
  "language_info": {
   "codemirror_mode": {
    "name": "ipython",
    "version": 3
   },
   "file_extension": ".py",
   "mimetype": "text/x-python",
   "name": "python",
   "nbconvert_exporter": "python",
   "pygments_lexer": "ipython3",
   "version": "3.9.7"
  }
 },
 "nbformat": 4,
 "nbformat_minor": 5
}
